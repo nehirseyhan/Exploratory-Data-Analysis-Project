{
  "cells": [
    {
      "cell_type": "markdown",
      "metadata": {
        "id": "view-in-github",
        "colab_type": "text"
      },
      "source": [
        "<a href=\"https://colab.research.google.com/github/nehirseyhan/Exploratory-Data-Analysis-Project/blob/main/ecommerce_dataanalysis.ipynb\" target=\"_parent\"><img src=\"https://colab.research.google.com/assets/colab-badge.svg\" alt=\"Open In Colab\"/></a>"
      ]
    },
    {
      "cell_type": "markdown",
      "metadata": {
        "id": "_3JB254rOeEM"
      },
      "source": [
        "# ecommerce-data-analysis\n",
        "\n",
        "Use the \"Run\" button to execute the code."
      ]
    },
    {
      "cell_type": "code",
      "execution_count": null,
      "metadata": {
        "id": "F59oTDAPOeEY"
      },
      "outputs": [],
      "source": [
        "print('Hello World')"
      ]
    },
    {
      "cell_type": "markdown",
      "source": [
        "# E-Commerce Behavior  Exploratory Data Analysis"
      ],
      "metadata": {
        "id": "anroKoTgOx3a"
      }
    },
    {
      "cell_type": "markdown",
      "source": [
        "\n",
        "####This file contains behavior data for 7 months (from October 2019 to April 2020) from a large multi-category online store.\n",
        "####It can be useful to analyse customer behavior, and help improve the e-commerce site accordingly.\n",
        "####Source of the data is Kaggle."
      ],
      "metadata": {
        "id": "WihlQOLAPiRc"
      }
    },
    {
      "cell_type": "markdown",
      "source": [
        "##Downloading Data"
      ],
      "metadata": {
        "id": "9BVHN0QAPCFN"
      }
    },
    {
      "cell_type": "code",
      "source": [
        "pip install opendatasets --upgrade --quiet\n"
      ],
      "metadata": {
        "id": "NXUnqp0LQllJ"
      },
      "execution_count": null,
      "outputs": []
    },
    {
      "cell_type": "code",
      "source": [
        "import opendatasets as od\n",
        "dataset_url = 'https://www.kaggle.com/datasets/mkechinov/ecommerce-behavior-data-from-multi-category-store'\n",
        "od.download('https://www.kaggle.com/datasets/mkechinov/ecommerce-behavior-data-from-multi-category-store')"
      ],
      "metadata": {
        "colab": {
          "base_uri": "https://localhost:8080/"
        },
        "id": "UQibQE8cRFuk",
        "outputId": "3407df93-b8de-4a17-9985-a9176179c7da"
      },
      "execution_count": null,
      "outputs": [
        {
          "metadata": {
            "tags": null
          },
          "name": "stdout",
          "output_type": "stream",
          "text": [
            "Please provide your Kaggle credentials to download this dataset. Learn more: http://bit.ly/kaggle-creds\n",
            "Your Kaggle username:Your Kaggle Key:Downloading ecommerce-behavior-data-from-multi-category-store.zip to ./ecommerce-behavior-data-from-multi-category-store\n"
          ]
        },
        {
          "metadata": {
            "tags": null
          },
          "name": "stderr",
          "output_type": "stream",
          "text": [
            "100%|██████████| 4.29G/4.29G [00:41<00:00, 112MB/s] \n"
          ]
        },
        {
          "metadata": {
            "tags": null
          },
          "name": "stdout",
          "output_type": "stream",
          "text": [
            "\n"
          ]
        }
      ]
    }
  ],
  "metadata": {
    "kernelspec": {
      "display_name": "Python 3",
      "language": "python",
      "name": "python3"
    },
    "language_info": {
      "codemirror_mode": {
        "name": "ipython",
        "version": 3
      },
      "file_extension": ".py",
      "mimetype": "text/x-python",
      "name": "python",
      "nbconvert_exporter": "python",
      "pygments_lexer": "ipython3",
      "version": "3.7.6"
    },
    "colab": {
      "provenance": [],
      "include_colab_link": true
    }
  },
  "nbformat": 4,
  "nbformat_minor": 0
}